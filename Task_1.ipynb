{
 "cells": [
  {
   "cell_type": "code",
   "execution_count": 306,
   "metadata": {},
   "outputs": [],
   "source": [
    "import pandas as pd"
   ]
  },
  {
   "cell_type": "code",
   "execution_count": 307,
   "metadata": {},
   "outputs": [],
   "source": [
    "file_path=\"JupterNb/Dataset/car_prices.csv\" # Path of the dataset\n",
    "data = pd.read_csv(file_path,na_values=[\"\", \"NA\", \"N/A\", \"-\", \"null\", \" \"]) # marks NA values"
   ]
  },
  {
   "cell_type": "code",
   "execution_count": 308,
   "metadata": {},
   "outputs": [
    {
     "name": "stdout",
     "output_type": "stream",
     "text": [
      "year                0\n",
      "make            10301\n",
      "model           10399\n",
      "trim            10651\n",
      "body            13195\n",
      "transmission    65352\n",
      "vin                 4\n",
      "state               0\n",
      "condition       11820\n",
      "odometer           94\n",
      "color             749\n",
      "interior          749\n",
      "seller              0\n",
      "mmr                38\n",
      "sellingprice       12\n",
      "saledate           12\n",
      "dtype: int64\n"
     ]
    }
   ],
   "source": [
    "print(data.isnull().sum()) # print total of value that have null value"
   ]
  },
  {
   "cell_type": "code",
   "execution_count": 309,
   "metadata": {},
   "outputs": [],
   "source": [
    "cleanedData=pd.DataFrame(data)\n",
    "cleanedData=data.dropna()           # Out of 558838 values 10301 values were null(approx. 2.0% value)"
   ]
  },
  {
   "cell_type": "code",
   "execution_count": 310,
   "metadata": {},
   "outputs": [
    {
     "name": "stdout",
     "output_type": "stream",
     "text": [
      "year            0\n",
      "make            0\n",
      "model           0\n",
      "trim            0\n",
      "body            0\n",
      "transmission    0\n",
      "vin             0\n",
      "state           0\n",
      "condition       0\n",
      "odometer        0\n",
      "color           0\n",
      "interior        0\n",
      "seller          0\n",
      "mmr             0\n",
      "sellingprice    0\n",
      "saledate        0\n",
      "dtype: int64\n"
     ]
    }
   ],
   "source": [
    "print(cleanedData.isnull().sum())   # Check for nulll value"
   ]
  },
  {
   "cell_type": "code",
   "execution_count": 311,
   "metadata": {},
   "outputs": [
    {
     "name": "stdout",
     "output_type": "stream",
     "text": [
      "<class 'pandas.core.frame.DataFrame'>\n",
      "Index: 472325 entries, 0 to 558836\n",
      "Data columns (total 16 columns):\n",
      " #   Column        Non-Null Count   Dtype  \n",
      "---  ------        --------------   -----  \n",
      " 0   year          472325 non-null  int64  \n",
      " 1   make          472325 non-null  object \n",
      " 2   model         472325 non-null  object \n",
      " 3   trim          472325 non-null  object \n",
      " 4   body          472325 non-null  object \n",
      " 5   transmission  472325 non-null  object \n",
      " 6   vin           472325 non-null  object \n",
      " 7   state         472325 non-null  object \n",
      " 8   condition     472325 non-null  float64\n",
      " 9   odometer      472325 non-null  float64\n",
      " 10  color         472325 non-null  object \n",
      " 11  interior      472325 non-null  object \n",
      " 12  seller        472325 non-null  object \n",
      " 13  mmr           472325 non-null  float64\n",
      " 14  sellingprice  472325 non-null  float64\n",
      " 15  saledate      472325 non-null  object \n",
      "dtypes: float64(4), int64(1), object(11)\n",
      "memory usage: 61.3+ MB\n"
     ]
    }
   ],
   "source": [
    "cleanedData.info() "
   ]
  },
  {
   "cell_type": "code",
   "execution_count": 312,
   "metadata": {},
   "outputs": [
    {
     "name": "stderr",
     "output_type": "stream",
     "text": [
      "C:\\Users\\praty\\AppData\\Local\\Temp\\ipykernel_22928\\3271307772.py:1: SettingWithCopyWarning: \n",
      "A value is trying to be set on a copy of a slice from a DataFrame.\n",
      "Try using .loc[row_indexer,col_indexer] = value instead\n",
      "\n",
      "See the caveats in the documentation: https://pandas.pydata.org/pandas-docs/stable/user_guide/indexing.html#returning-a-view-versus-a-copy\n",
      "  cleanedData['make'] = cleanedData['make'].astype('string')     # Converting below column from Object to String\n",
      "C:\\Users\\praty\\AppData\\Local\\Temp\\ipykernel_22928\\3271307772.py:2: SettingWithCopyWarning: \n",
      "A value is trying to be set on a copy of a slice from a DataFrame.\n",
      "Try using .loc[row_indexer,col_indexer] = value instead\n",
      "\n",
      "See the caveats in the documentation: https://pandas.pydata.org/pandas-docs/stable/user_guide/indexing.html#returning-a-view-versus-a-copy\n",
      "  cleanedData['model'] = cleanedData['model'].astype('string')\n",
      "C:\\Users\\praty\\AppData\\Local\\Temp\\ipykernel_22928\\3271307772.py:3: SettingWithCopyWarning: \n",
      "A value is trying to be set on a copy of a slice from a DataFrame.\n",
      "Try using .loc[row_indexer,col_indexer] = value instead\n",
      "\n",
      "See the caveats in the documentation: https://pandas.pydata.org/pandas-docs/stable/user_guide/indexing.html#returning-a-view-versus-a-copy\n",
      "  cleanedData['trim'] = cleanedData['trim'].astype('string')\n",
      "C:\\Users\\praty\\AppData\\Local\\Temp\\ipykernel_22928\\3271307772.py:4: SettingWithCopyWarning: \n",
      "A value is trying to be set on a copy of a slice from a DataFrame.\n",
      "Try using .loc[row_indexer,col_indexer] = value instead\n",
      "\n",
      "See the caveats in the documentation: https://pandas.pydata.org/pandas-docs/stable/user_guide/indexing.html#returning-a-view-versus-a-copy\n",
      "  cleanedData['vin'] = cleanedData['vin'].astype('string')\n",
      "C:\\Users\\praty\\AppData\\Local\\Temp\\ipykernel_22928\\3271307772.py:5: SettingWithCopyWarning: \n",
      "A value is trying to be set on a copy of a slice from a DataFrame.\n",
      "Try using .loc[row_indexer,col_indexer] = value instead\n",
      "\n",
      "See the caveats in the documentation: https://pandas.pydata.org/pandas-docs/stable/user_guide/indexing.html#returning-a-view-versus-a-copy\n",
      "  cleanedData['state'] = cleanedData['state'].astype('string')\n",
      "C:\\Users\\praty\\AppData\\Local\\Temp\\ipykernel_22928\\3271307772.py:6: SettingWithCopyWarning: \n",
      "A value is trying to be set on a copy of a slice from a DataFrame.\n",
      "Try using .loc[row_indexer,col_indexer] = value instead\n",
      "\n",
      "See the caveats in the documentation: https://pandas.pydata.org/pandas-docs/stable/user_guide/indexing.html#returning-a-view-versus-a-copy\n",
      "  cleanedData['transmission'] = cleanedData['transmission'].astype('string')\n",
      "C:\\Users\\praty\\AppData\\Local\\Temp\\ipykernel_22928\\3271307772.py:7: SettingWithCopyWarning: \n",
      "A value is trying to be set on a copy of a slice from a DataFrame.\n",
      "Try using .loc[row_indexer,col_indexer] = value instead\n",
      "\n",
      "See the caveats in the documentation: https://pandas.pydata.org/pandas-docs/stable/user_guide/indexing.html#returning-a-view-versus-a-copy\n",
      "  cleanedData['seller'] = cleanedData['seller'].astype('string')\n",
      "C:\\Users\\praty\\AppData\\Local\\Temp\\ipykernel_22928\\3271307772.py:8: SettingWithCopyWarning: \n",
      "A value is trying to be set on a copy of a slice from a DataFrame.\n",
      "Try using .loc[row_indexer,col_indexer] = value instead\n",
      "\n",
      "See the caveats in the documentation: https://pandas.pydata.org/pandas-docs/stable/user_guide/indexing.html#returning-a-view-versus-a-copy\n",
      "  cleanedData['mmr'] = cleanedData['mmr'].astype('string')\n",
      "C:\\Users\\praty\\AppData\\Local\\Temp\\ipykernel_22928\\3271307772.py:9: SettingWithCopyWarning: \n",
      "A value is trying to be set on a copy of a slice from a DataFrame.\n",
      "Try using .loc[row_indexer,col_indexer] = value instead\n",
      "\n",
      "See the caveats in the documentation: https://pandas.pydata.org/pandas-docs/stable/user_guide/indexing.html#returning-a-view-versus-a-copy\n",
      "  cleanedData['interior'] = cleanedData['interior'].astype('string')\n",
      "C:\\Users\\praty\\AppData\\Local\\Temp\\ipykernel_22928\\3271307772.py:10: SettingWithCopyWarning: \n",
      "A value is trying to be set on a copy of a slice from a DataFrame.\n",
      "Try using .loc[row_indexer,col_indexer] = value instead\n",
      "\n",
      "See the caveats in the documentation: https://pandas.pydata.org/pandas-docs/stable/user_guide/indexing.html#returning-a-view-versus-a-copy\n",
      "  cleanedData['color'] = cleanedData['color'].astype('string')\n"
     ]
    }
   ],
   "source": [
    "cleanedData['make'] = cleanedData['make'].astype('string')     # Converting below column from Object to String \n",
    "cleanedData['model'] = cleanedData['model'].astype('string')\n",
    "cleanedData['trim'] = cleanedData['trim'].astype('string')\n",
    "cleanedData['vin'] = cleanedData['vin'].astype('string')\n",
    "cleanedData['state'] = cleanedData['state'].astype('string')\n",
    "cleanedData['transmission'] = cleanedData['transmission'].astype('string')\n",
    "cleanedData['seller'] = cleanedData['seller'].astype('string')\n",
    "cleanedData['mmr'] = cleanedData['mmr'].astype('string')\n",
    "cleanedData['interior'] = cleanedData['interior'].astype('string')\n",
    "cleanedData['color'] = cleanedData['color'].astype('string')"
   ]
  },
  {
   "cell_type": "code",
   "execution_count": 313,
   "metadata": {},
   "outputs": [
    {
     "data": {
      "text/html": [
       "<div>\n",
       "<style scoped>\n",
       "    .dataframe tbody tr th:only-of-type {\n",
       "        vertical-align: middle;\n",
       "    }\n",
       "\n",
       "    .dataframe tbody tr th {\n",
       "        vertical-align: top;\n",
       "    }\n",
       "\n",
       "    .dataframe thead th {\n",
       "        text-align: right;\n",
       "    }\n",
       "</style>\n",
       "<table border=\"1\" class=\"dataframe\">\n",
       "  <thead>\n",
       "    <tr style=\"text-align: right;\">\n",
       "      <th></th>\n",
       "      <th>year</th>\n",
       "      <th>condition</th>\n",
       "      <th>odometer</th>\n",
       "      <th>sellingprice</th>\n",
       "    </tr>\n",
       "  </thead>\n",
       "  <tbody>\n",
       "    <tr>\n",
       "      <th>count</th>\n",
       "      <td>472325.000000</td>\n",
       "      <td>472325.000000</td>\n",
       "      <td>472325.000000</td>\n",
       "      <td>472325.000000</td>\n",
       "    </tr>\n",
       "    <tr>\n",
       "      <th>mean</th>\n",
       "      <td>2010.210980</td>\n",
       "      <td>30.774177</td>\n",
       "      <td>66701.732040</td>\n",
       "      <td>13690.512058</td>\n",
       "    </tr>\n",
       "    <tr>\n",
       "      <th>std</th>\n",
       "      <td>3.822151</td>\n",
       "      <td>13.286866</td>\n",
       "      <td>51939.586894</td>\n",
       "      <td>9613.033738</td>\n",
       "    </tr>\n",
       "    <tr>\n",
       "      <th>min</th>\n",
       "      <td>1990.000000</td>\n",
       "      <td>1.000000</td>\n",
       "      <td>1.000000</td>\n",
       "      <td>1.000000</td>\n",
       "    </tr>\n",
       "    <tr>\n",
       "      <th>25%</th>\n",
       "      <td>2008.000000</td>\n",
       "      <td>24.000000</td>\n",
       "      <td>28137.000000</td>\n",
       "      <td>7200.000000</td>\n",
       "    </tr>\n",
       "    <tr>\n",
       "      <th>50%</th>\n",
       "      <td>2012.000000</td>\n",
       "      <td>35.000000</td>\n",
       "      <td>51085.000000</td>\n",
       "      <td>12200.000000</td>\n",
       "    </tr>\n",
       "    <tr>\n",
       "      <th>75%</th>\n",
       "      <td>2013.000000</td>\n",
       "      <td>41.000000</td>\n",
       "      <td>96590.000000</td>\n",
       "      <td>18200.000000</td>\n",
       "    </tr>\n",
       "    <tr>\n",
       "      <th>max</th>\n",
       "      <td>2015.000000</td>\n",
       "      <td>49.000000</td>\n",
       "      <td>999999.000000</td>\n",
       "      <td>230000.000000</td>\n",
       "    </tr>\n",
       "  </tbody>\n",
       "</table>\n",
       "</div>"
      ],
      "text/plain": [
       "                year      condition       odometer   sellingprice\n",
       "count  472325.000000  472325.000000  472325.000000  472325.000000\n",
       "mean     2010.210980      30.774177   66701.732040   13690.512058\n",
       "std         3.822151      13.286866   51939.586894    9613.033738\n",
       "min      1990.000000       1.000000       1.000000       1.000000\n",
       "25%      2008.000000      24.000000   28137.000000    7200.000000\n",
       "50%      2012.000000      35.000000   51085.000000   12200.000000\n",
       "75%      2013.000000      41.000000   96590.000000   18200.000000\n",
       "max      2015.000000      49.000000  999999.000000  230000.000000"
      ]
     },
     "execution_count": 313,
     "metadata": {},
     "output_type": "execute_result"
    }
   ],
   "source": [
    "cleanedData.describe()"
   ]
  },
  {
   "cell_type": "code",
   "execution_count": 314,
   "metadata": {},
   "outputs": [
    {
     "name": "stderr",
     "output_type": "stream",
     "text": [
      "C:\\Users\\praty\\AppData\\Local\\Temp\\ipykernel_22928\\1575841868.py:1: SettingWithCopyWarning: \n",
      "A value is trying to be set on a copy of a slice from a DataFrame.\n",
      "Try using .loc[row_indexer,col_indexer] = value instead\n",
      "\n",
      "See the caveats in the documentation: https://pandas.pydata.org/pandas-docs/stable/user_guide/indexing.html#returning-a-view-versus-a-copy\n",
      "  cleanedData['saledate_clean'] = cleanedData['saledate'].str.replace(r'\\s*\\(.*\\)', '', regex=True) # Removing special charaters from the saledate column using Regular expression\n"
     ]
    }
   ],
   "source": [
    "cleanedData['saledate_clean'] = cleanedData['saledate'].str.replace(r'\\s*\\(.*\\)', '', regex=True) # Removing special charaters from the saledate column using Regular expression"
   ]
  },
  {
   "cell_type": "code",
   "execution_count": 315,
   "metadata": {},
   "outputs": [
    {
     "name": "stderr",
     "output_type": "stream",
     "text": [
      "C:\\Users\\praty\\AppData\\Local\\Temp\\ipykernel_22928\\3748214026.py:1: SettingWithCopyWarning: \n",
      "A value is trying to be set on a copy of a slice from a DataFrame.\n",
      "Try using .loc[row_indexer,col_indexer] = value instead\n",
      "\n",
      "See the caveats in the documentation: https://pandas.pydata.org/pandas-docs/stable/user_guide/indexing.html#returning-a-view-versus-a-copy\n",
      "  cleanedData['saledate_parsed'] = pd.to_datetime(cleanedData['saledate_clean'], errors='coerce',utc=True)  # Converting to datetime format\n"
     ]
    }
   ],
   "source": [
    "cleanedData['saledate_parsed'] = pd.to_datetime(cleanedData['saledate_clean'], errors='coerce',utc=True)  # Converting to datetime format"
   ]
  },
  {
   "cell_type": "code",
   "execution_count": 316,
   "metadata": {},
   "outputs": [
    {
     "name": "stdout",
     "output_type": "stream",
     "text": [
      "Parsed column dtype: datetime64[ns, UTC]\n",
      "                           saledate_clean           saledate_parsed\n",
      "0       Tue Dec 16 2014 12:30:00 GMT-0800 2014-12-16 20:30:00+00:00\n",
      "1       Tue Dec 16 2014 12:30:00 GMT-0800 2014-12-16 20:30:00+00:00\n",
      "2       Thu Jan 15 2015 04:30:00 GMT-0800 2015-01-15 12:30:00+00:00\n",
      "3       Thu Jan 29 2015 04:30:00 GMT-0800 2015-01-29 12:30:00+00:00\n",
      "4       Thu Dec 18 2014 12:30:00 GMT-0800 2014-12-18 20:30:00+00:00\n",
      "...                                   ...                       ...\n",
      "558831  Tue Jul 07 2015 06:15:00 GMT-0700 2015-07-07 13:15:00+00:00\n",
      "558833  Wed Jul 08 2015 09:30:00 GMT-0700 2015-07-08 16:30:00+00:00\n",
      "558834  Wed Jul 08 2015 09:30:00 GMT-0700 2015-07-08 16:30:00+00:00\n",
      "558835  Thu Jul 09 2015 06:45:00 GMT-0700 2015-07-09 13:45:00+00:00\n",
      "558836  Thu May 28 2015 05:30:00 GMT-0700 2015-05-28 12:30:00+00:00\n",
      "\n",
      "[472325 rows x 2 columns]\n"
     ]
    }
   ],
   "source": [
    "print(\"Parsed column dtype:\", cleanedData['saledate_parsed'].dtype) # Conversion \n",
    "print(cleanedData[['saledate_clean', 'saledate_parsed']])"
   ]
  },
  {
   "cell_type": "code",
   "execution_count": 317,
   "metadata": {},
   "outputs": [
    {
     "name": "stdout",
     "output_type": "stream",
     "text": [
      "datetime64[ns, UTC]\n"
     ]
    }
   ],
   "source": [
    "print(cleanedData['saledate_parsed'].dtype) # Conversion check"
   ]
  },
  {
   "cell_type": "code",
   "execution_count": 318,
   "metadata": {},
   "outputs": [
    {
     "name": "stderr",
     "output_type": "stream",
     "text": [
      "C:\\Users\\praty\\AppData\\Local\\Temp\\ipykernel_22928\\89946973.py:1: SettingWithCopyWarning: \n",
      "A value is trying to be set on a copy of a slice from a DataFrame.\n",
      "Try using .loc[row_indexer,col_indexer] = value instead\n",
      "\n",
      "See the caveats in the documentation: https://pandas.pydata.org/pandas-docs/stable/user_guide/indexing.html#returning-a-view-versus-a-copy\n",
      "  cleanedData['date_only'] = cleanedData['saledate_parsed'].dt.date    # Conversion to unitS of time\n",
      "C:\\Users\\praty\\AppData\\Local\\Temp\\ipykernel_22928\\89946973.py:2: SettingWithCopyWarning: \n",
      "A value is trying to be set on a copy of a slice from a DataFrame.\n",
      "Try using .loc[row_indexer,col_indexer] = value instead\n",
      "\n",
      "See the caveats in the documentation: https://pandas.pydata.org/pandas-docs/stable/user_guide/indexing.html#returning-a-view-versus-a-copy\n",
      "  cleanedData['time_only'] = cleanedData['saledate_parsed'].dt.time\n",
      "C:\\Users\\praty\\AppData\\Local\\Temp\\ipykernel_22928\\89946973.py:3: SettingWithCopyWarning: \n",
      "A value is trying to be set on a copy of a slice from a DataFrame.\n",
      "Try using .loc[row_indexer,col_indexer] = value instead\n",
      "\n",
      "See the caveats in the documentation: https://pandas.pydata.org/pandas-docs/stable/user_guide/indexing.html#returning-a-view-versus-a-copy\n",
      "  cleanedData['day'] = cleanedData['saledate_parsed'].dt.day\n",
      "C:\\Users\\praty\\AppData\\Local\\Temp\\ipykernel_22928\\89946973.py:4: SettingWithCopyWarning: \n",
      "A value is trying to be set on a copy of a slice from a DataFrame.\n",
      "Try using .loc[row_indexer,col_indexer] = value instead\n",
      "\n",
      "See the caveats in the documentation: https://pandas.pydata.org/pandas-docs/stable/user_guide/indexing.html#returning-a-view-versus-a-copy\n",
      "  cleanedData['month'] = cleanedData['saledate_parsed'].dt.month\n",
      "C:\\Users\\praty\\AppData\\Local\\Temp\\ipykernel_22928\\89946973.py:5: SettingWithCopyWarning: \n",
      "A value is trying to be set on a copy of a slice from a DataFrame.\n",
      "Try using .loc[row_indexer,col_indexer] = value instead\n",
      "\n",
      "See the caveats in the documentation: https://pandas.pydata.org/pandas-docs/stable/user_guide/indexing.html#returning-a-view-versus-a-copy\n",
      "  cleanedData['year'] = cleanedData['saledate_parsed'].dt.year\n",
      "C:\\Users\\praty\\AppData\\Local\\Temp\\ipykernel_22928\\89946973.py:6: SettingWithCopyWarning: \n",
      "A value is trying to be set on a copy of a slice from a DataFrame.\n",
      "Try using .loc[row_indexer,col_indexer] = value instead\n",
      "\n",
      "See the caveats in the documentation: https://pandas.pydata.org/pandas-docs/stable/user_guide/indexing.html#returning-a-view-versus-a-copy\n",
      "  cleanedData['ddmmyyyy'] = cleanedData['saledate_parsed'].dt.strftime('%d%m%Y')\n"
     ]
    }
   ],
   "source": [
    "cleanedData['date_only'] = cleanedData['saledate_parsed'].dt.date    # Conversion to unitS of time\n",
    "cleanedData['time_only'] = cleanedData['saledate_parsed'].dt.time\n",
    "cleanedData['day'] = cleanedData['saledate_parsed'].dt.day\n",
    "cleanedData['month'] = cleanedData['saledate_parsed'].dt.month\n",
    "cleanedData['year'] = cleanedData['saledate_parsed'].dt.year\n",
    "cleanedData['ddmmyyyy'] = cleanedData['saledate_parsed'].dt.strftime('%d%m%Y')"
   ]
  },
  {
   "cell_type": "code",
   "execution_count": 319,
   "metadata": {},
   "outputs": [
    {
     "data": {
      "text/plain": [
       "<StringArray>\n",
       "['automatic', 'manual']\n",
       "Length: 2, dtype: string"
      ]
     },
     "execution_count": 319,
     "metadata": {},
     "output_type": "execute_result"
    }
   ],
   "source": [
    "cleanedData.transmission.unique()"
   ]
  },
  {
   "cell_type": "code",
   "execution_count": 320,
   "metadata": {},
   "outputs": [
    {
     "name": "stdout",
     "output_type": "stream",
     "text": [
      "<class 'pandas.core.frame.DataFrame'>\n",
      "Index: 472325 entries, 0 to 558836\n",
      "Data columns (total 23 columns):\n",
      " #   Column           Non-Null Count   Dtype              \n",
      "---  ------           --------------   -----              \n",
      " 0   year             472325 non-null  int32              \n",
      " 1   make             472325 non-null  string             \n",
      " 2   model            472325 non-null  string             \n",
      " 3   trim             472325 non-null  string             \n",
      " 4   body             472325 non-null  object             \n",
      " 5   transmission     472325 non-null  string             \n",
      " 6   vin              472325 non-null  string             \n",
      " 7   state            472325 non-null  string             \n",
      " 8   condition        472325 non-null  float64            \n",
      " 9   odometer         472325 non-null  float64            \n",
      " 10  color            472325 non-null  string             \n",
      " 11  interior         472325 non-null  string             \n",
      " 12  seller           472325 non-null  string             \n",
      " 13  mmr              472325 non-null  string             \n",
      " 14  sellingprice     472325 non-null  float64            \n",
      " 15  saledate         472325 non-null  object             \n",
      " 16  saledate_clean   472325 non-null  object             \n",
      " 17  saledate_parsed  472325 non-null  datetime64[ns, UTC]\n",
      " 18  date_only        472325 non-null  object             \n",
      " 19  time_only        472325 non-null  object             \n",
      " 20  day              472325 non-null  int32              \n",
      " 21  month            472325 non-null  int32              \n",
      " 22  ddmmyyyy         472325 non-null  object             \n",
      "dtypes: datetime64[ns, UTC](1), float64(3), int32(3), object(6), string(10)\n",
      "memory usage: 81.1+ MB\n"
     ]
    }
   ],
   "source": [
    "cleanedData.info()"
   ]
  },
  {
   "cell_type": "code",
   "execution_count": 321,
   "metadata": {},
   "outputs": [
    {
     "data": {
      "text/plain": [
       "0         black\n",
       "1         beige\n",
       "2         black\n",
       "3         black\n",
       "4         black\n",
       "          ...  \n",
       "558831    brown\n",
       "558833    black\n",
       "558834    black\n",
       "558835    black\n",
       "558836     gray\n",
       "Name: interior, Length: 472325, dtype: string"
      ]
     },
     "execution_count": 321,
     "metadata": {},
     "output_type": "execute_result"
    }
   ],
   "source": [
    "cleanedData.interior"
   ]
  },
  {
   "cell_type": "code",
   "execution_count": 322,
   "metadata": {},
   "outputs": [
    {
     "name": "stderr",
     "output_type": "stream",
     "text": [
      "C:\\Users\\praty\\AppData\\Local\\Temp\\ipykernel_22928\\1881403130.py:1: SettingWithCopyWarning: \n",
      "A value is trying to be set on a copy of a slice from a DataFrame.\n",
      "Try using .loc[row_indexer,col_indexer] = value instead\n",
      "\n",
      "See the caveats in the documentation: https://pandas.pydata.org/pandas-docs/stable/user_guide/indexing.html#returning-a-view-versus-a-copy\n",
      "  cleanedData['date_only'] = cleanedData['saledate_parsed'].dt.date\n",
      "C:\\Users\\praty\\AppData\\Local\\Temp\\ipykernel_22928\\1881403130.py:2: SettingWithCopyWarning: \n",
      "A value is trying to be set on a copy of a slice from a DataFrame.\n",
      "Try using .loc[row_indexer,col_indexer] = value instead\n",
      "\n",
      "See the caveats in the documentation: https://pandas.pydata.org/pandas-docs/stable/user_guide/indexing.html#returning-a-view-versus-a-copy\n",
      "  cleanedData['time_only'] = cleanedData['saledate_parsed'].dt.time\n",
      "C:\\Users\\praty\\AppData\\Local\\Temp\\ipykernel_22928\\1881403130.py:3: SettingWithCopyWarning: \n",
      "A value is trying to be set on a copy of a slice from a DataFrame.\n",
      "Try using .loc[row_indexer,col_indexer] = value instead\n",
      "\n",
      "See the caveats in the documentation: https://pandas.pydata.org/pandas-docs/stable/user_guide/indexing.html#returning-a-view-versus-a-copy\n",
      "  cleanedData['day'] = cleanedData['saledate_parsed'].dt.day\n",
      "C:\\Users\\praty\\AppData\\Local\\Temp\\ipykernel_22928\\1881403130.py:4: SettingWithCopyWarning: \n",
      "A value is trying to be set on a copy of a slice from a DataFrame.\n",
      "Try using .loc[row_indexer,col_indexer] = value instead\n",
      "\n",
      "See the caveats in the documentation: https://pandas.pydata.org/pandas-docs/stable/user_guide/indexing.html#returning-a-view-versus-a-copy\n",
      "  cleanedData['month'] = cleanedData['saledate_parsed'].dt.month\n",
      "C:\\Users\\praty\\AppData\\Local\\Temp\\ipykernel_22928\\1881403130.py:5: SettingWithCopyWarning: \n",
      "A value is trying to be set on a copy of a slice from a DataFrame.\n",
      "Try using .loc[row_indexer,col_indexer] = value instead\n",
      "\n",
      "See the caveats in the documentation: https://pandas.pydata.org/pandas-docs/stable/user_guide/indexing.html#returning-a-view-versus-a-copy\n",
      "  cleanedData['year'] = cleanedData['saledate_parsed'].dt.year\n",
      "C:\\Users\\praty\\AppData\\Local\\Temp\\ipykernel_22928\\1881403130.py:6: SettingWithCopyWarning: \n",
      "A value is trying to be set on a copy of a slice from a DataFrame.\n",
      "Try using .loc[row_indexer,col_indexer] = value instead\n",
      "\n",
      "See the caveats in the documentation: https://pandas.pydata.org/pandas-docs/stable/user_guide/indexing.html#returning-a-view-versus-a-copy\n",
      "  cleanedData['ddmmyyyy'] = cleanedData['saledate_parsed'].dt.strftime('%d%m%Y')\n"
     ]
    }
   ],
   "source": [
    "cleanedData['date_only'] = cleanedData['saledate_parsed'].dt.date\n",
    "cleanedData['time_only'] = cleanedData['saledate_parsed'].dt.time\n",
    "cleanedData['day'] = cleanedData['saledate_parsed'].dt.day\n",
    "cleanedData['month'] = cleanedData['saledate_parsed'].dt.month\n",
    "cleanedData['year'] = cleanedData['saledate_parsed'].dt.year\n",
    "cleanedData['ddmmyyyy'] = cleanedData['saledate_parsed'].dt.strftime('%d%m%Y')"
   ]
  },
  {
   "cell_type": "code",
   "execution_count": 323,
   "metadata": {},
   "outputs": [
    {
     "name": "stdout",
     "output_type": "stream",
     "text": [
      "<class 'pandas.core.frame.DataFrame'>\n",
      "Index: 472325 entries, 0 to 558836\n",
      "Data columns (total 23 columns):\n",
      " #   Column           Non-Null Count   Dtype              \n",
      "---  ------           --------------   -----              \n",
      " 0   year             472325 non-null  int32              \n",
      " 1   make             472325 non-null  string             \n",
      " 2   model            472325 non-null  string             \n",
      " 3   trim             472325 non-null  string             \n",
      " 4   body             472325 non-null  object             \n",
      " 5   transmission     472325 non-null  string             \n",
      " 6   vin              472325 non-null  string             \n",
      " 7   state            472325 non-null  string             \n",
      " 8   condition        472325 non-null  float64            \n",
      " 9   odometer         472325 non-null  float64            \n",
      " 10  color            472325 non-null  string             \n",
      " 11  interior         472325 non-null  string             \n",
      " 12  seller           472325 non-null  string             \n",
      " 13  mmr              472325 non-null  string             \n",
      " 14  sellingprice     472325 non-null  float64            \n",
      " 15  saledate         472325 non-null  object             \n",
      " 16  saledate_clean   472325 non-null  object             \n",
      " 17  saledate_parsed  472325 non-null  datetime64[ns, UTC]\n",
      " 18  date_only        472325 non-null  object             \n",
      " 19  time_only        472325 non-null  object             \n",
      " 20  day              472325 non-null  int32              \n",
      " 21  month            472325 non-null  int32              \n",
      " 22  ddmmyyyy         472325 non-null  object             \n",
      "dtypes: datetime64[ns, UTC](1), float64(3), int32(3), object(6), string(10)\n",
      "memory usage: 81.1+ MB\n"
     ]
    }
   ],
   "source": [
    "cleanedData.info()\n"
   ]
  },
  {
   "cell_type": "code",
   "execution_count": 324,
   "metadata": {},
   "outputs": [
    {
     "data": {
      "text/plain": [
       "<StringArray>\n",
       "['ca', 'tx', 'mn', 'az', 'wi', 'tn', 'md', 'pa', 'fl', 'ne', 'oh', 'mi', 'nj',\n",
       " 'va', 'sc', 'in', 'il', 'co', 'ut', 'mo', 'ga', 'nv', 'ma', 'pr', 'nc', 'ny',\n",
       " 'or', 'la', 'wa', 'hi', 'ok', 'ms', 'nm', 'al']\n",
       "Length: 34, dtype: string"
      ]
     },
     "execution_count": 324,
     "metadata": {},
     "output_type": "execute_result"
    }
   ],
   "source": [
    "cleanedData.state.unique()"
   ]
  },
  {
   "cell_type": "code",
   "execution_count": 325,
   "metadata": {},
   "outputs": [
    {
     "name": "stderr",
     "output_type": "stream",
     "text": [
      "C:\\Users\\praty\\AppData\\Local\\Temp\\ipykernel_22928\\4117348310.py:1: SettingWithCopyWarning: \n",
      "A value is trying to be set on a copy of a slice from a DataFrame.\n",
      "Try using .loc[row_indexer,col_indexer] = value instead\n",
      "\n",
      "See the caveats in the documentation: https://pandas.pydata.org/pandas-docs/stable/user_guide/indexing.html#returning-a-view-versus-a-copy\n",
      "  cleanedData['state'] = cleanedData['state'].str.upper()\n"
     ]
    }
   ],
   "source": [
    "cleanedData['state'] = cleanedData['state'].str.upper()"
   ]
  },
  {
   "cell_type": "code",
   "execution_count": 326,
   "metadata": {},
   "outputs": [
    {
     "data": {
      "text/plain": [
       "<StringArray>\n",
       "[                           'kia motors america  inc',\n",
       "             'financial services remarketing (lease)',\n",
       "                            'volvo na rep/world omni',\n",
       " 'enterprise vehicle exchange / tra / rental / tulsa',\n",
       "                              'the hertz corporation',\n",
       "                                 'audi mission viejo',\n",
       "                                 'd/m auto sales inc',\n",
       "                                  'desert auto trade',\n",
       "                                 'kia motors finance',\n",
       "                              'audi north scottsdale',\n",
       " ...\n",
       "                          'larry h. miller chevrolet',\n",
       "                            'eynon pontiac buick inc',\n",
       "                                'auto revolution llc',\n",
       "                            't&s california auto inc',\n",
       "                                  'magnum motors llc',\n",
       "                                 'a-1 auto group llc',\n",
       "                        'g brothers auto brokers inc',\n",
       "                         'maserati north america inc',\n",
       "                    'alternative financial group inc',\n",
       "                                    'i -5 uhlmann rv']\n",
       "Length: 11923, dtype: string"
      ]
     },
     "execution_count": 326,
     "metadata": {},
     "output_type": "execute_result"
    }
   ],
   "source": [
    "cleanedData.seller.unique()"
   ]
  },
  {
   "cell_type": "code",
   "execution_count": 327,
   "metadata": {},
   "outputs": [],
   "source": [
    "cleanedData= cleanedData[(cleanedData['color'] != '-') & (cleanedData['interior'] != '-')]   # removing - and '' from color and interior columns\n",
    "cleanedData= cleanedData[(cleanedData['color'] != '') & (cleanedData['interior'] != '-')]\n",
    "\n",
    "cleanedData['color'] = cleanedData['color'].astype(str).str.strip().str.replace('—', '', regex=False)\n",
    "cleanedData['interior'] = cleanedData['interior'].astype(str).str.strip().str.replace('—', '', regex=False)\n",
    "\n"
   ]
  },
  {
   "cell_type": "code",
   "execution_count": 328,
   "metadata": {},
   "outputs": [
    {
     "data": {
      "text/plain": [
       "array(['white', 'gray', 'black', 'red', 'silver', 'brown', 'beige',\n",
       "       'blue', 'purple', 'burgundy', '', 'gold', 'yellow', 'green',\n",
       "       'charcoal', 'orange', 'off-white', 'turquoise', 'pink', 'lime'],\n",
       "      dtype=object)"
      ]
     },
     "execution_count": 328,
     "metadata": {},
     "output_type": "execute_result"
    }
   ],
   "source": [
    "cleanedData.color.unique()"
   ]
  },
  {
   "cell_type": "code",
   "execution_count": 329,
   "metadata": {},
   "outputs": [
    {
     "data": {
      "text/plain": [
       "np.int64(0)"
      ]
     },
     "execution_count": 329,
     "metadata": {},
     "output_type": "execute_result"
    }
   ],
   "source": [
    "cleanedData.color.isnull().sum()"
   ]
  },
  {
   "cell_type": "code",
   "execution_count": null,
   "metadata": {},
   "outputs": [],
   "source": [
    "cleanedData = cleanedData.drop('date_only', axis=1) # Droping column date_only\n"
   ]
  },
  {
   "cell_type": "code",
   "execution_count": 332,
   "metadata": {},
   "outputs": [],
   "source": [
    "cleanedData.to_csv('CleanedCarsSales.csv', index=False, encoding='utf-8')\n"
   ]
  },
  {
   "cell_type": "code",
   "execution_count": null,
   "metadata": {},
   "outputs": [],
   "source": []
  }
 ],
 "metadata": {
  "kernelspec": {
   "display_name": "Python 3",
   "language": "python",
   "name": "python3"
  },
  "language_info": {
   "codemirror_mode": {
    "name": "ipython",
    "version": 3
   },
   "file_extension": ".py",
   "mimetype": "text/x-python",
   "name": "python",
   "nbconvert_exporter": "python",
   "pygments_lexer": "ipython3",
   "version": "3.10.0"
  }
 },
 "nbformat": 4,
 "nbformat_minor": 2
}
